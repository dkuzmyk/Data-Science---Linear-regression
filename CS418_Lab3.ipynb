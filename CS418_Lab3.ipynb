{
  "nbformat": 4,
  "nbformat_minor": 0,
  "metadata": {
    "kernelspec": {
      "display_name": "Python 3",
      "language": "python",
      "name": "python3"
    },
    "language_info": {
      "codemirror_mode": {
        "name": "ipython",
        "version": 3
      },
      "file_extension": ".py",
      "mimetype": "text/x-python",
      "name": "python",
      "nbconvert_exporter": "python",
      "pygments_lexer": "ipython3",
      "version": "3.7.0"
    },
    "colab": {
      "name": "CS418-Lab3.ipynb",
      "provenance": [],
      "collapsed_sections": [],
      "toc_visible": true
    }
  },
  "cells": [
    {
      "cell_type": "markdown",
      "metadata": {
        "id": "WRzdBZJgZNdQ"
      },
      "source": [
        "# Lab 3: Scikit Learn and Regression"
      ]
    },
    {
      "cell_type": "markdown",
      "metadata": {
        "id": "4RUtFoMGZNdW"
      },
      "source": [
        "Deadline Tuesday 4/6/21  11:59 pm "
      ]
    },
    {
      "cell_type": "markdown",
      "metadata": {
        "id": "1Ro-fN0VZNdX"
      },
      "source": [
        "**scikit-learn** is a popular machine learning package that contains a variety of models and tools. In this lab and lab 4 we will work with different models provided by **scikit-learn** package and build several models.\n",
        "\n",
        "All objects within scikitt-learn share a uniform common basic API consisting of 3 interfaces: an _estimator_ interface for building and fitting models, a _predictor_ interface for making predictions, and a _transformer_ interface for converting data.\n",
        "\n",
        ">The _estimator_  interface defines object mechanism and a fit method for learning a model from training data. All supervised and unsupervised learning algorithms are offered as objects implementing this interface. Other machine learning tasks such as _feature extraction_, _feature selection_, and _dimensionality reduction_ are provided as _estimators_. \n",
        "\n",
        "For more information, check the scikit-learn API paper: [https://arxiv.org/pdf/1309.0238v1.pdf]\n",
        "\n",
        "The general form of using models in scikit-learn:\n"
      ]
    },
    {
      "cell_type": "markdown",
      "metadata": {
        "id": "d_FhsROXZNdY"
      },
      "source": [
        "```\n",
        "clf = someModel( )\n",
        "clf.fit(x_train , y_tain)\n",
        "```"
      ]
    },
    {
      "cell_type": "markdown",
      "metadata": {
        "id": "qBofv3E5ZNdY"
      },
      "source": [
        "For Example: \n",
        "\n",
        "```\n",
        "clf = LinearSVC( )\n",
        "clf.fit(x_train , y_tain)\n",
        "```"
      ]
    },
    {
      "cell_type": "markdown",
      "metadata": {
        "id": "W4VvoRahZNdZ"
      },
      "source": [
        ">The _predictor_ adds a predict method that takes an array x_test and produces predictions for x_test, based on the learned parameters of the _estimator_. In supervised learning, this method typically return predicted labels or values computed by the model. Some unsupervised learning estimators may also implement the predict interface, such as __k-means__, where the predicted values are the cluster labels.\n",
        "\n",
        "```\n",
        "clf.predict(x_test)\n",
        "```"
      ]
    },
    {
      "cell_type": "markdown",
      "metadata": {
        "id": "fbq2VQrNZNdZ"
      },
      "source": [
        ">_transform_ method is used to modify or filter data before feeding it to a learning algorithm. It takes some new data as input and outputs a transformed version of that data. Preprocessing, feature selection, feature extraction and dimensionality reduction algorithms are all provided as _transformers_ within the library. \n",
        "\n",
        "This is usually done with __fit_transform__ method. For example: "
      ]
    },
    {
      "cell_type": "markdown",
      "metadata": {
        "id": "bDvtM0qDZNda"
      },
      "source": [
        "```\n",
        "PCA = RandomizedPCA (n_components = 2) \n",
        "x_train = PCA.fit_transform(x_train)\n",
        "x_test = PCA.fit_transform(x_test)\n",
        "\n",
        "```"
      ]
    },
    {
      "cell_type": "markdown",
      "metadata": {
        "id": "7JkuQC6gZNda"
      },
      "source": [
        "In the example above, we first __fit__ the training set to find the PC components, then they are transformed. "
      ]
    },
    {
      "cell_type": "markdown",
      "metadata": {
        "id": "x8KIo7WDZNdb"
      },
      "source": [
        "We can summarize the _estimator_ as follows:\n",
        "\n",
        "* In _all estimators_\n",
        "    - `model.fit()` : fit training data. In supervised learning, fit will take two parameters: the data x and labels y. In unsupervised learning, fit will take a single parameter: the data x\n",
        "\n",
        "* In _supervised estimators_\n",
        "    - `model.predict()` : predict the label of new test data for the given model. Predict takes one parameter: the new test data and returns the learned label for each item in the test data \n",
        "    - `model.score()` : Returns the score method for classification or regression methods.\n",
        "\n",
        "* In _unsupervised estimators_\n",
        "\n",
        "    - `model.transform()`: Tranform new data into new basis. Transform takes one parameter: new data and returns a new representation of that data based on the model\n",
        "  \n",
        "    "
      ]
    },
    {
      "cell_type": "markdown",
      "metadata": {
        "id": "pqxPwCwiZNdb"
      },
      "source": [
        ""
      ]
    },
    {
      "cell_type": "markdown",
      "metadata": {
        "id": "eRIQ1ZaNZNdb"
      },
      "source": [
        ""
      ]
    },
    {
      "cell_type": "markdown",
      "metadata": {
        "id": "3L_KwUnTZNdb"
      },
      "source": [
        "\n",
        "### Linear Regression"
      ]
    },
    {
      "cell_type": "markdown",
      "metadata": {
        "id": "3atIRAbnZNdc"
      },
      "source": [
        "Let's start with a simple linear regression. First we will see an example of a simple linear regression. A simple straight line that fits the data. The formula representing the model is $$y = \\beta_1 x +  \\beta_0$$"
      ]
    },
    {
      "cell_type": "code",
      "metadata": {
        "id": "tRjRi6fuZNdc"
      },
      "source": [
        "%matplotlib inline\n",
        "import matplotlib.pyplot as plt\n",
        "import seaborn as sns; sns.set()\n",
        "import numpy as np"
      ],
      "execution_count": null,
      "outputs": []
    },
    {
      "cell_type": "markdown",
      "metadata": {
        "id": "cdJ07TCeZNdd"
      },
      "source": [
        "Let's start by using the following simple data for showing how linear regression works in scikit-learn. Then it will be your turn to build a regression model on a dataset"
      ]
    },
    {
      "cell_type": "code",
      "metadata": {
        "colab": {
          "base_uri": "https://localhost:8080/",
          "height": 287
        },
        "id": "B1CP97VbZNdd",
        "outputId": "172b7248-b26c-4448-f590-0f5a6792ae1f"
      },
      "source": [
        "rng = np.random.RandomState(50)\n",
        "\n",
        "x = 10 * rng.rand(80)\n",
        "y = 2 * x - 1 + rng.randn(80)\n",
        "\n",
        "plt.scatter(x,y)"
      ],
      "execution_count": null,
      "outputs": [
        {
          "output_type": "execute_result",
          "data": {
            "text/plain": [
              "<matplotlib.collections.PathCollection at 0x7fd98fe58c10>"
            ]
          },
          "metadata": {
            "tags": []
          },
          "execution_count": 2
        },
        {
          "output_type": "display_data",
          "data": {
            "image/png": "[encoded data removed]",
            "text/plain": [
              "<Figure size 432x288 with 1 Axes>"
            ]
          },
          "metadata": {
            "tags": [],
            "needs_background": "light"
          }
        }
      ]
    },
    {
      "cell_type": "markdown",
      "metadata": {
        "id": "HAwyV36AZNde"
      },
      "source": [
        "After processing your data, the first step is to choose a model. For the dataset above, we are going to pick \"Linear Regression\" model. Simply import your model:"
      ]
    },
    {
      "cell_type": "code",
      "metadata": {
        "id": "hVFxuwVmZNde"
      },
      "source": [
        "from sklearn.linear_model import LinearRegression"
      ],
      "execution_count": null,
      "outputs": []
    },
    {
      "cell_type": "markdown",
      "metadata": {
        "id": "GG33o4rVZNde"
      },
      "source": [
        "Next, pick the model hyperparameters"
      ]
    },
    {
      "cell_type": "code",
      "metadata": {
        "colab": {
          "base_uri": "https://localhost:8080/",
          "height": 270
        },
        "id": "eG_OI9dDZNde",
        "outputId": "dc83401b-b4e7-49c6-a786-df48313f49c2"
      },
      "source": [
        "\n",
        "model = LinearRegression(fit_intercept=True)\n",
        "\n",
        "model.fit(x[:, np.newaxis], y)\n",
        "\n",
        "xfit = np.linspace(0, 10, 1000)\n",
        "yfit = model.predict(xfit[:, np.newaxis])\n",
        "\n",
        "plt.scatter(x, y)\n",
        "plt.plot(xfit, yfit);"
      ],
      "execution_count": null,
      "outputs": [
        {
          "output_type": "display_data",
          "data": {
            "image/png": "[encoded data removed]",
            "text/plain": [
              "<Figure size 432x288 with 1 Axes>"
            ]
          },
          "metadata": {
            "tags": [],
            "needs_background": "light"
          }
        }
      ]
    },
    {
      "cell_type": "markdown",
      "metadata": {
        "id": "2fPJVhDDZNdf"
      },
      "source": [
        "We can check the model settings: "
      ]
    },
    {
      "cell_type": "code",
      "metadata": {
        "colab": {
          "base_uri": "https://localhost:8080/"
        },
        "id": "XUU1rCb0ZNdf",
        "outputId": "cbb0334e-aeee-4f41-d567-f52a8a32376b"
      },
      "source": [
        "print(model.coef_[0])\n",
        "print(model.intercept_)"
      ],
      "execution_count": null,
      "outputs": [
        {
          "output_type": "stream",
          "text": [
            "1.944535887214308\n",
            "-0.8492545699739527\n"
          ],
          "name": "stdout"
        }
      ]
    },
    {
      "cell_type": "markdown",
      "metadata": {
        "id": "BeAg25QaZNdf"
      },
      "source": [
        "### Linear regression on scikit-learn datasets\n",
        "\n",
        "You can use datasets provided by scikit-learn as well. In the example below, we will apply linear regression to the **diabetes** dataset.\n",
        "\n",
        "In the diabetes datasets, ten baseline variables; age, sex, body mass index, average blood pressure, and six blood serum measurements were obtained for each of n = 442 diabetes patients, as well as the response of interest, a quantitative measure of disease progression one year after baseline."
      ]
    },
    {
      "cell_type": "code",
      "metadata": {
        "id": "Wt_Ce7ShZNdg"
      },
      "source": [
        ""
      ],
      "execution_count": null,
      "outputs": []
    },
    {
      "cell_type": "code",
      "metadata": {
        "colab": {
          "base_uri": "https://localhost:8080/",
          "height": 318
        },
        "id": "yFNEZS-6ZNdg",
        "outputId": "52f42183-8be2-4e3d-a631-4bf1ecd74015"
      },
      "source": [
        "# Importing diabetes dataset\n",
        "from sklearn.datasets import load_diabetes\n",
        "\n",
        "from sklearn.model_selection import train_test_split\n",
        "from sklearn.metrics import mean_squared_error, r2_score\n",
        "\n",
        "\n",
        "# Load the diabetes dataset\n",
        "diabetes = load_diabetes()\n",
        "\n",
        "# Use only one feature -- the following code creates a 1-dimensional \n",
        "# array containing just the second feature\n",
        "diabetes_X = diabetes.data[:, np.newaxis]\n",
        "diabetes_X_data = diabetes_X[:,:,2]\n",
        "\n",
        "# Split the data into training/testing sets\n",
        "diabetes_X_train,diabetes_X_test , diabetes_y_train, diabetes_y_test = train_test_split(\n",
        "                                     diabetes_X_data, diabetes.target, test_size = 0.15 )\n",
        "\n",
        "\n",
        "# Create linear regression object\n",
        "m1 = LinearRegression()\n",
        "\n",
        "\n",
        "# Train the model with training data \n",
        "m1.fit(diabetes_X_train, diabetes_y_train)\n",
        "\n",
        "# Make predictions on test data \n",
        "diabetes_y_pred = m1.predict(diabetes_X_test)\n",
        "\n",
        "#print the coefficient \n",
        "print('Coefficients: \\n', m1.coef_)\n",
        "\n",
        "#print the mean squared error\n",
        "print('Mean squared error: %.2f'% mean_squared_error(diabetes_y_test, diabetes_y_pred))\n",
        "\n",
        "\n",
        "# print the r-squared\n",
        "print('R-squared: %.2f' % r2_score(diabetes_y_test, diabetes_y_pred))\n",
        "\n",
        "\n",
        "# Plot \n",
        "plt.scatter(diabetes_X_test, diabetes_y_test,  color='red')\n",
        "plt.plot(diabetes_X_test, diabetes_y_pred, color='blue', linewidth=2)\n",
        "\n",
        "plt.xticks(())\n",
        "plt.yticks(())\n",
        "\n",
        "plt.show()\n"
      ],
      "execution_count": null,
      "outputs": [
        {
          "output_type": "stream",
          "text": [
            "Coefficients: \n",
            " [945.32560087]\n",
            "Mean squared error: 3666.34\n",
            "R-squared: 0.36\n"
          ],
          "name": "stdout"
        },
        {
          "output_type": "display_data",
          "data": {
            "image/png": "[encoded data removed]",
            "text/plain": [
              "<Figure size 432x288 with 1 Axes>"
            ]
          },
          "metadata": {
            "tags": []
          }
        }
      ]
    },
    {
      "cell_type": "markdown",
      "metadata": {
        "id": "NikcMcGAZNdg"
      },
      "source": [
        "As you can see, the prediction is not very good. Maybe we can try something different!"
      ]
    },
    {
      "cell_type": "markdown",
      "metadata": {
        "id": "8VLK23CwZNdg"
      },
      "source": [
        "#### Exercise 3.1 ( 15 pts)\n",
        "\n",
        "Run the linear regression on diabetes data with **all the features** in the dataset. \n",
        "Calculate the mean squared error and compare the two models. Did using all available features improve the performance ?"
      ]
    },
    {
      "cell_type": "code",
      "metadata": {
        "colab": {
          "base_uri": "https://localhost:8080/"
        },
        "id": "luryYTL8ZNdh",
        "outputId": "4429c695-9046-4cdb-e3ec-c759ee9a933b"
      },
      "source": [
        "#Your code goes here\n",
        "diabetes_X_data2 = diabetes.data\n",
        "#print('x',diabetes_X2)\n",
        "#print(diabetes_X2.shape)\n",
        "#diabetes_X_data2 = diabetes_X2[:,:]\n",
        "#print(diabetes_X_data2)\n",
        "#print(diabetes_X_data2.shape)\n",
        "\n",
        "diabetes_X_train2, diabetes_X_test2 , diabetes_y_train2, diabetes_y_test2 = train_test_split(\n",
        "                                     diabetes_X_data2, diabetes.target, test_size = 0.15 )\n",
        "m2 = LinearRegression()\n",
        "\n",
        "# Train the model with training data \n",
        "m2.fit(diabetes_X_train2, diabetes_y_train2)\n",
        "\n",
        "# Make predictions on test data \n",
        "diabetes_y_pred2 = m2.predict(diabetes_X_test2)\n",
        "\n",
        "# Compare the coefficients\n",
        "print('New coefficients: \\n', m2.coef_)\n",
        "print('Old coefficients:', m1.coef_)\n",
        "\n",
        "#print the mean squared error\n",
        "print('New MSE: %.2f'% mean_squared_error(diabetes_y_test2, diabetes_y_pred2))\n",
        "print('Old MSE: %.2f'% mean_squared_error(diabetes_y_test, diabetes_y_pred))\n",
        "\n",
        "# print the r-squared\n",
        "print('New R-squared: %.2f' % r2_score(diabetes_y_test2, diabetes_y_pred2))\n",
        "print('Old R-squared: %.2f' % r2_score(diabetes_y_test, diabetes_y_pred))\n"
      ],
      "execution_count": null,
      "outputs": [
        {
          "output_type": "stream",
          "text": [
            "New coefficients: \n",
            " [    5.57867762  -256.30778223   491.46719561   366.67048969\n",
            " -1096.16980978   680.98299107   214.77456023   234.25598097\n",
            "   847.13400588    70.09918683]\n",
            "Old coefficients: [945.32560087]\n",
            "New MSE: 2641.12\n",
            "Old MSE: 3666.34\n",
            "New R-squared: 0.50\n",
            "Old R-squared: 0.36\n"
          ],
          "name": "stdout"
        }
      ]
    },
    {
      "cell_type": "markdown",
      "metadata": {
        "id": "AgQ3A3iNZNdh"
      },
      "source": [
        "Feature selection allows your estimator to perform a better job by decreasing the model complexity and overfitting.\n",
        "scikit-learn provides several feature selection methods such as `SelectKBest` and `RFE`. Here is an example of using `RFE` or [Recursive feature elimination](https://scikit-learn.org/stable/modules/generated/sklearn.feature_selection.RFE.html#sklearn.feature_selection.RFE) on diabetes dataset:"
      ]
    },
    {
      "cell_type": "code",
      "metadata": {
        "colab": {
          "base_uri": "https://localhost:8080/"
        },
        "id": "b412vqgNZNdh",
        "outputId": "00b9b91c-176a-4ca2-8389-26c1c342764f"
      },
      "source": [
        "from sklearn.feature_selection import RFE\n",
        "\n",
        "# Note that this piece of code works with training data and model from Exercise 3.1\n",
        "# Either choose the same name for your variables or change the variable names below\n",
        "\n",
        "rfe = RFE(estimator = m2 , n_features_to_select = 2 , step = 1)\n",
        "rfe.fit(diabetes_X_train2, diabetes_y_train2)\n",
        "\n",
        "print(rfe.ranking_)"
      ],
      "execution_count": null,
      "outputs": [
        {
          "output_type": "stream",
          "text": [
            "[9 5 1 4 2 3 7 6 1 8]\n"
          ],
          "name": "stdout"
        }
      ]
    },
    {
      "cell_type": "markdown",
      "metadata": {
        "id": "0qBlvCzbZNdh"
      },
      "source": [
        "#### Exercise 3.2 (20 pts)\n",
        "\n",
        "Calculate and print the mean squared error using two features. Which model performs better? (the more complex one with all features, or the simpler model using fewer features)\n",
        "(Note that `RFE` has a predict function you can use)\n",
        "\n"
      ]
    },
    {
      "cell_type": "code",
      "metadata": {
        "colab": {
          "base_uri": "https://localhost:8080/"
        },
        "id": "sRpj4MnuZNdh",
        "outputId": "5cc997c9-3b47-47b6-ded7-3b390b4240b8"
      },
      "source": [
        "# Your code goes here \n",
        "# transform\n",
        "x_transformed_train = rfe.transform(diabetes_X_train2)\n",
        "x_transofrmed_test = rfe.transform(diabetes_X_test2)\n",
        "\n",
        "m3 = LinearRegression()\n",
        "rfe2 = RFE(estimator=m3, n_features_to_select=2, step=1)\n",
        "rfe2.fit(x_transformed_train, diabetes_y_train2)\n",
        "\n",
        "p1 = rfe2.predict(x_transofrmed_test)\n",
        "\n",
        "print('New LinearRegression MSE: %.2f'% mean_squared_error(diabetes_y_test2, diabetes_y_pred2))\n",
        "print('RFE Two-Parameter Prediction MSE: %.2f'% mean_squared_error(diabetes_y_test2, p1)) \n",
        "\n",
        "print('RFE slightly reduces the MSE')"
      ],
      "execution_count": null,
      "outputs": [
        {
          "output_type": "stream",
          "text": [
            "New LinearRegression MSE: 2641.12\n",
            "RFE Two-Parameter Prediction MSE: 2429.23\n",
            "RFE slightly reduces the MSE\n"
          ],
          "name": "stdout"
        }
      ]
    },
    {
      "cell_type": "markdown",
      "metadata": {
        "id": "WCmxykMTZNdi"
      },
      "source": [
        "### Linear regression on the Boston house price dataset\n",
        "\n",
        "Now it's your turn to perform a linear regression on the Boston housing dataset."
      ]
    },
    {
      "cell_type": "markdown",
      "metadata": {
        "id": "gesZUjv7ZNdi"
      },
      "source": [
        "#### Exercise 3.3 ( 20 pts)\n",
        "\n",
        "Train a set of linear regression models to predict the house prices for boston house dataset. You should use all the available features and train multiple linear regression models for:\n",
        "\n",
        "* a) 30% training, 70% testing \n",
        "* b) 50% training, 50% testing\n",
        "* c) 70% training, 30% testing\n",
        "* d) 80% training, 20% testing\n",
        "\n",
        "Plot the mean squared error for all models. "
      ]
    },
    {
      "cell_type": "code",
      "metadata": {
        "colab": {
          "base_uri": "https://localhost:8080/",
          "height": 356
        },
        "id": "FckVhO1mZNdi",
        "outputId": "27ba4d9f-e8a6-45f9-fcca-a1a7cb3df2f9"
      },
      "source": [
        "from sklearn.datasets import load_boston\n",
        "boston = load_boston()\n",
        "train_splits = [0.3, 0.5, 0.7, 0.8]\n",
        "mse_list = []\n",
        "\n",
        "# get the data\n",
        "data_x = boston.data\n",
        "\n",
        "#Your code goes here\n",
        "for e in train_splits:\n",
        "\n",
        "  # get the model\n",
        "  m = LinearRegression()\n",
        "\n",
        "  # split the data \n",
        "  h_X_train, h_X_test , h_y_train, h_y_test = train_test_split(\n",
        "                                      data_x, boston.target, test_size = (1-e))\n",
        "\n",
        "  # Train the model with training data \n",
        "  m.fit(h_X_train, h_y_train)\n",
        "\n",
        "  # Make predictions on test data \n",
        "  pred = m.predict(h_X_test)\n",
        "  mse = mean_squared_error(h_y_test, pred)\n",
        "  mse_list.append(mse)\n",
        "\n",
        "  print('For training set,',e*100,'MSE:',mse)\n",
        "\n",
        "#print(mse_list)\n",
        "plt.plot(mse_list)"
      ],
      "execution_count": null,
      "outputs": [
        {
          "output_type": "stream",
          "text": [
            "For training set, 30.0 MSE: 25.730577151446276\n",
            "For training set, 50.0 MSE: 22.86401874764827\n",
            "For training set, 70.0 MSE: 34.75748776193152\n",
            "For training set, 80.0 MSE: 22.804613148277127\n"
          ],
          "name": "stdout"
        },
        {
          "output_type": "execute_result",
          "data": {
            "text/plain": [
              "[<matplotlib.lines.Line2D at 0x7fd97f417210>]"
            ]
          },
          "metadata": {
            "tags": []
          },
          "execution_count": 379
        },
        {
          "output_type": "display_data",
          "data": {
            "image/png": "[encoded data removed]",
            "text/plain": [
              "<Figure size 432x288 with 1 Axes>"
            ]
          },
          "metadata": {
            "tags": [],
            "needs_background": "light"
          }
        }
      ]
    },
    {
      "cell_type": "markdown",
      "metadata": {
        "id": "HRGefea5ZNdi"
      },
      "source": [
        " #### Exercise 3.4  ( 45 pts)\n",
        " \n",
        "Use `RFE` to find the best set of features for prediction. What are they? \n",
        "(Note that in order to find the best set of features for prediction, you need to consider all possible combinations, from 1 to d features, calculate the MSE for each one and pick the set of features that give you the min MSE)\n",
        "\n",
        "\n",
        "Use the same train-test splits from 3.3, to train new models with the best set of features for prediction. Plot the mean squared error for each linear regression models and given train-test split."
      ]
    },
    {
      "cell_type": "code",
      "metadata": {
        "colab": {
          "base_uri": "https://localhost:8080/",
          "height": 1000
        },
        "id": "zTSnCP-6ZNdi",
        "outputId": "abebfb86-dd75-464d-a459-9b4c40a18d71"
      },
      "source": [
        "#Your code goes here\n",
        "# find out how many features\n",
        "\n",
        "n = h_X_train.shape[1]\n",
        "# collect all mse and num features\n",
        "d = list()\n",
        "f = list()\n",
        "r = list()\n",
        "num = list()\n",
        "print(\"There's a total of\",n,'features.')\n",
        "\n",
        "for e in range(n)[1:]:\n",
        "  e = e+1\n",
        "  rfe_h = RFE(estimator = m , n_features_to_select = e , step = 1)\n",
        "  rfe_h.fit(h_X_train, h_y_train)\n",
        "\n",
        "  print('n =',e)\n",
        "  print('Ranking:',rfe_h.ranking_)\n",
        "  r.append(rfe_h.ranking_)\n",
        "  print('Names:',boston.feature_names[rfe_h.support_])\n",
        "  f.append(boston.feature_names[rfe_h.support_])\n",
        "  \n",
        "  X_train = rfe_h.transform(h_X_train)\n",
        "  X_test = rfe_h.transform(h_X_test)\n",
        "\n",
        "  rfe_h.fit(X_train, h_y_train)\n",
        "  pred_y = rfe_h.predict(X_test)\n",
        "  mse_1= mean_squared_error(h_y_test, pred_y)\n",
        "  print('MSE:',mse_1)\n",
        "  d.append(mse_1)\n",
        "  num.append(e)\n",
        "  print()\n",
        "\n",
        "# find best num features and their mse\n",
        "i = min(d)\n",
        "print('Min MSE:',i)\n",
        "print('Num features:', num[d.index(i)])\n",
        "print('Features:',f[d.index(i)])\n",
        "\n",
        "# detect what columns to get\n",
        "col = []\n",
        "best_rank = r[d.index(i)]\n",
        "count = 0\n",
        "for e in best_rank:\n",
        "  if e == 1:\n",
        "    col.append(count)\n",
        "  count+=1\n",
        "\n",
        "#print(col)\n",
        "print()\n",
        "mse_list2 = list()\n",
        "# train on different splits\n",
        "for e in train_splits:\n",
        "  data_x2 = boston.data[:,col]\n",
        "  # get the model\n",
        "  m_n = LinearRegression()\n",
        "\n",
        "  # split the data \n",
        "  h_X_train2, h_X_test2, h_y_train2, h_y_test2 = train_test_split(\n",
        "                                      data_x2, boston.target, test_size = (1-e))\n",
        "\n",
        "  # Train the model with training data \n",
        "  m_n.fit(h_X_train2, h_y_train2)\n",
        "\n",
        "  # Make predictions on test data \n",
        "  pred2 = m_n.predict(h_X_test2)\n",
        "  mse2 = mean_squared_error(h_y_test2, pred2)\n",
        "  mse_list2.append(mse2)\n",
        "\n",
        "  print('For training set,',e*100,'MSE:',mse2)\n",
        "\n",
        "print()\n",
        "print()\n",
        "print()\n",
        "plt.plot(mse_list2)"
      ],
      "execution_count": null,
      "outputs": [
        {
          "output_type": "stream",
          "text": [
            "There's a total of 13 features.\n",
            "n = 2\n",
            "Ranking: [ 7  8 11  2  1  1 12  4  6  9  3 10  5]\n",
            "Names: ['NOX' 'RM']\n",
            "MSE: 37.28993162222593\n",
            "\n",
            "n = 3\n",
            "Ranking: [ 6  7 10  1  1  1 11  3  5  8  2  9  4]\n",
            "Names: ['CHAS' 'NOX' 'RM']\n",
            "MSE: 34.34765248322249\n",
            "\n",
            "n = 4\n",
            "Ranking: [ 5  6  9  1  1  1 10  2  4  7  1  8  3]\n",
            "Names: ['CHAS' 'NOX' 'RM' 'PTRATIO']\n",
            "MSE: 30.84475820746245\n",
            "\n",
            "n = 5\n",
            "Ranking: [4 5 8 1 1 1 9 1 3 6 1 7 2]\n",
            "Names: ['CHAS' 'NOX' 'RM' 'DIS' 'PTRATIO']\n",
            "MSE: 28.529945170363124\n",
            "\n",
            "n = 6\n",
            "Ranking: [3 4 7 1 1 1 8 1 2 5 1 6 1]\n",
            "Names: ['CHAS' 'NOX' 'RM' 'DIS' 'PTRATIO' 'LSTAT']\n",
            "MSE: 23.12112166129604\n",
            "\n",
            "n = 7\n",
            "Ranking: [2 3 6 1 1 1 7 1 1 4 1 5 1]\n",
            "Names: ['CHAS' 'NOX' 'RM' 'DIS' 'RAD' 'PTRATIO' 'LSTAT']\n",
            "MSE: 22.89771623650139\n",
            "\n",
            "n = 8\n",
            "Ranking: [1 2 5 1 1 1 6 1 1 3 1 4 1]\n",
            "Names: ['CRIM' 'CHAS' 'NOX' 'RM' 'DIS' 'RAD' 'PTRATIO' 'LSTAT']\n",
            "MSE: 22.790273864065984\n",
            "\n",
            "n = 9\n",
            "Ranking: [1 1 4 1 1 1 5 1 1 2 1 3 1]\n",
            "Names: ['CRIM' 'ZN' 'CHAS' 'NOX' 'RM' 'DIS' 'RAD' 'PTRATIO' 'LSTAT']\n",
            "MSE: 23.136113615828314\n",
            "\n",
            "n = 10\n",
            "Ranking: [1 1 3 1 1 1 4 1 1 1 1 2 1]\n",
            "Names: ['CRIM' 'ZN' 'CHAS' 'NOX' 'RM' 'DIS' 'RAD' 'TAX' 'PTRATIO' 'LSTAT']\n",
            "MSE: 23.054053465406614\n",
            "\n",
            "n = 11\n",
            "Ranking: [1 1 2 1 1 1 3 1 1 1 1 1 1]\n",
            "Names: ['CRIM' 'ZN' 'CHAS' 'NOX' 'RM' 'DIS' 'RAD' 'TAX' 'PTRATIO' 'B' 'LSTAT']\n",
            "MSE: 22.755276131106818\n",
            "\n",
            "n = 12\n",
            "Ranking: [1 1 1 1 1 1 2 1 1 1 1 1 1]\n",
            "Names: ['CRIM' 'ZN' 'INDUS' 'CHAS' 'NOX' 'RM' 'DIS' 'RAD' 'TAX' 'PTRATIO' 'B'\n",
            " 'LSTAT']\n",
            "MSE: 22.745091630773214\n",
            "\n",
            "n = 13\n",
            "Ranking: [1 1 1 1 1 1 1 1 1 1 1 1 1]\n",
            "Names: ['CRIM' 'ZN' 'INDUS' 'CHAS' 'NOX' 'RM' 'AGE' 'DIS' 'RAD' 'TAX' 'PTRATIO'\n",
            " 'B' 'LSTAT']\n",
            "MSE: 22.80461314827714\n",
            "\n",
            "Min MSE: 22.745091630773214\n",
            "Num features: 12\n",
            "Features: ['CRIM' 'ZN' 'INDUS' 'CHAS' 'NOX' 'RM' 'DIS' 'RAD' 'TAX' 'PTRATIO' 'B'\n",
            " 'LSTAT']\n",
            "\n",
            "For training set, 30.0 MSE: 26.036674466341452\n",
            "For training set, 50.0 MSE: 24.78450381651138\n",
            "For training set, 70.0 MSE: 35.899740170727156\n",
            "For training set, 80.0 MSE: 19.970245542491707\n",
            "\n",
            "\n",
            "\n"
          ],
          "name": "stdout"
        },
        {
          "output_type": "execute_result",
          "data": {
            "text/plain": [
              "[<matplotlib.lines.Line2D at 0x7fd97dacfdd0>]"
            ]
          },
          "metadata": {
            "tags": []
          },
          "execution_count": 414
        },
        {
          "output_type": "display_data",
          "data": {
            "image/png": "[encoded data removed]",
            "text/plain": [
              "<Figure size 432x288 with 1 Axes>"
            ]
          },
          "metadata": {
            "tags": [],
            "needs_background": "light"
          }
        }
      ]
    },
    {
      "cell_type": "code",
      "metadata": {
        "id": "bb3i3_8qZNdi"
      },
      "source": [
        ""
      ],
      "execution_count": null,
      "outputs": []
    }
  ]
}